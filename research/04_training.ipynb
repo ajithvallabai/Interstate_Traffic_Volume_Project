{
 "cells": [
  {
   "cell_type": "code",
   "execution_count": 1,
   "metadata": {},
   "outputs": [],
   "source": [
    "import os"
   ]
  },
  {
   "cell_type": "code",
   "execution_count": 2,
   "metadata": {},
   "outputs": [],
   "source": [
    "os.chdir(\"../\")"
   ]
  },
  {
   "cell_type": "code",
   "execution_count": 3,
   "metadata": {},
   "outputs": [
    {
     "data": {
      "text/plain": [
       "'c:\\\\Users\\\\MCW\\\\Documents\\\\Ajith\\\\MLOps\\\\project_02\\\\Interstate_Traffic_Volume_Project'"
      ]
     },
     "execution_count": 3,
     "metadata": {},
     "output_type": "execute_result"
    }
   ],
   "source": [
    "%pwd"
   ]
  },
  {
   "cell_type": "code",
   "execution_count": 4,
   "metadata": {},
   "outputs": [],
   "source": [
    "from dataclasses import dataclass\n",
    "from pathlib import Path\n",
    "\n",
    "\n",
    "@dataclass(frozen=True)\n",
    "class TrainingConfig:\n",
    "    root_dir: Path\n",
    "    trained_model_path: Path\n",
    "    updated_base_model_path: Path\n",
    "    training_data: Path\n",
    "    params_epochs: int\n",
    "    params_batch_size: int\n",
    "\n",
    "\n",
    "@dataclass(frozen=True)\n",
    "class PrepareCallbacksConfig:\n",
    "    root_dir: Path\n",
    "    tensorboard_root_log_dir: Path\n",
    "    checkpoint_model_filepath: Path"
   ]
  },
  {
   "cell_type": "code",
   "execution_count": 5,
   "metadata": {},
   "outputs": [
    {
     "name": "stdout",
     "output_type": "stream",
     "text": [
      "[2023-12-29 21:27:51,504: WARNING: module_wrapper: From c:\\Users\\MCW\\.conda\\envs\\mlops\\Lib\\site-packages\\keras\\src\\losses.py:2976: The name tf.losses.sparse_softmax_cross_entropy is deprecated. Please use tf.compat.v1.losses.sparse_softmax_cross_entropy instead.\n",
      "]\n"
     ]
    }
   ],
   "source": [
    "from trafficVolumePrediction.constants import *\n",
    "from trafficVolumePrediction.utils.common import read_yaml, create_directories\n",
    "import tensorflow as tf"
   ]
  },
  {
   "cell_type": "code",
   "execution_count": 11,
   "metadata": {},
   "outputs": [],
   "source": [
    "class ConfigurationManager:\n",
    "    def __init__(\n",
    "        self, \n",
    "        config_filepath = CONFIG_FILE_PATH,\n",
    "        params_filepath = PARAMS_FILE_PATH):\n",
    "        self.config = read_yaml(config_filepath)\n",
    "        self.params = read_yaml(params_filepath)\n",
    "        create_directories([self.config.artifacts_root])\n",
    "\n",
    "\n",
    "    \n",
    "    def get_prepare_callback_config(self) -> PrepareCallbacksConfig:\n",
    "        config = self.config.prepare_callbacks\n",
    "        model_ckpt_dir = os.path.dirname(config.checkpoint_model_filepath)\n",
    "        create_directories([\n",
    "            Path(model_ckpt_dir),\n",
    "            Path(config.tensorboard_root_log_dir)\n",
    "        ])\n",
    "\n",
    "        prepare_callback_config = PrepareCallbacksConfig(\n",
    "            root_dir=Path(config.root_dir),\n",
    "            tensorboard_root_log_dir=Path(config.tensorboard_root_log_dir),\n",
    "            checkpoint_model_filepath=Path(config.checkpoint_model_filepath)\n",
    "        )\n",
    "\n",
    "        return prepare_callback_config\n",
    "    \n",
    "\n",
    "\n",
    "\n",
    "\n",
    "    def get_training_config(self) -> TrainingConfig:\n",
    "        training = self.config.training\n",
    "        prepare_base_model = self.config.prepare_base_model\n",
    "        params = self.params\n",
    "        training_data = os.path.join(self.config.data_ingestion.unzip_dir, \"data_trafficVolume.csv\")\n",
    "        create_directories([\n",
    "            Path(training.root_dir)\n",
    "        ])\n",
    "\n",
    "        training_config = TrainingConfig(\n",
    "            root_dir=Path(training.root_dir),\n",
    "            trained_model_path=Path(training.trained_model_path),\n",
    "            updated_base_model_path=Path(prepare_base_model.updated_base_model_path),\n",
    "            training_data=Path(training_data),\n",
    "            params_epochs=params.EPOCHS,\n",
    "            params_batch_size=params.BATCH_SIZE\n",
    "        )\n",
    "\n",
    "        return training_config"
   ]
  },
  {
   "cell_type": "code",
   "execution_count": 7,
   "metadata": {},
   "outputs": [],
   "source": [
    "class PrepareCallback:\n",
    "    def __init__(self, config: PrepareCallbacksConfig):\n",
    "        self.config = config\n",
    "\n",
    "\n",
    "    \n",
    "    @property\n",
    "    def _create_tb_callbacks(self):\n",
    "        timestamp = time.strftime(\"%Y-%m-%d-%H-%M-%S\")\n",
    "        tb_running_log_dir = os.path.join(\n",
    "            self.config.tensorboard_root_log_dir,\n",
    "            f\"tb_logs_at_{timestamp}\",\n",
    "        )\n",
    "        return tf.keras.callbacks.TensorBoard(log_dir=tb_running_log_dir)\n",
    "    \n",
    "\n",
    "    @property\n",
    "    def _create_ckpt_callbacks(self):\n",
    "        return tf.keras.callbacks.ModelCheckpoint(\n",
    "            filepath=self.config.checkpoint_model_filepath,\n",
    "            save_best_only=True\n",
    "        )\n",
    "\n",
    "\n",
    "    def get_tb_ckpt_callbacks(self):\n",
    "        return [\n",
    "            self._create_tb_callbacks,\n",
    "            self._create_ckpt_callbacks\n",
    "        ]"
   ]
  },
  {
   "cell_type": "code",
   "execution_count": 8,
   "metadata": {},
   "outputs": [],
   "source": [
    "import os\n",
    "import urllib.request as request\n",
    "from zipfile import ZipFile\n",
    "import tensorflow as tf\n",
    "import time"
   ]
  },
  {
   "cell_type": "code",
   "execution_count": 26,
   "metadata": {},
   "outputs": [],
   "source": [
    "import pandas as pd\n",
    "import numpy as np\n",
    "from sklearn.model_selection import train_test_split\n",
    "\n",
    "class Training:\n",
    "    def __init__(self, config: TrainingConfig):\n",
    "        self.config = config\n",
    "    \n",
    "    def get_base_model(self):\n",
    "        self.model = tf.keras.models.load_model(\n",
    "            self.config.updated_base_model_path\n",
    "        )\n",
    "    \n",
    "    def train_valid_generator(self):\n",
    "\n",
    "        data = pd.read_csv(self.config.training_data)\n",
    "        x = np.array(data[[\"holiday\",\"temp\",\"rain_1h\",\"snow_1h\",\"clouds_all\",\"weather_main\",\"weather_description\",\"year\",\"month\",\"day\",\"hour\"]])\n",
    "        y = np.array(data[[\"traffic_volume\"]])\n",
    "        self.xtrain, self.xval, self.ytrain, self.yval = train_test_split(x, y, \n",
    "                                                        test_size=0.20, \n",
    "                                                        random_state=33)\n",
    "\n",
    "    @staticmethod\n",
    "    def save_model(path: Path, model: tf.keras.Model):\n",
    "        model.save(path)\n",
    "\n",
    "\n",
    "    def train(self, callback_list: list):\n",
    "        self.steps_per_epoch = len(self.xtrain) // self.config.params_batch_size\n",
    "        self.validation_steps = len(self.xval)  // self.config.params_batch_size\n",
    "        print(self.steps_per_epoch)\n",
    "        print(self.validation_steps)\n",
    "        print(callback_list)\n",
    "        self.model.fit(\n",
    "            self.xtrain,\n",
    "            self.ytrain,\n",
    "            epochs=self.config.params_epochs,\n",
    "            steps_per_epoch=self.steps_per_epoch,\n",
    "            validation_steps=self.validation_steps,\n",
    "            validation_split=0.20,\n",
    "            callbacks=callback_list\n",
    "        )\n",
    "\n",
    "        self.save_model(\n",
    "            path=self.config.trained_model_path,\n",
    "            model=self.model\n",
    "        )"
   ]
  },
  {
   "cell_type": "code",
   "execution_count": 27,
   "metadata": {},
   "outputs": [
    {
     "name": "stdout",
     "output_type": "stream",
     "text": [
      "[2023-12-29 22:27:07,809: INFO: common: yaml file: config\\config.yaml loaded successfully]\n",
      "[2023-12-29 22:27:07,813: INFO: common: yaml file: params.yaml loaded successfully]\n",
      "[2023-12-29 22:27:07,816: INFO: common: created directory at: artifacts]\n",
      "[2023-12-29 22:27:07,817: INFO: common: created directory at: artifacts\\prepare_callbacks\\checkpoint_dir]\n",
      "[2023-12-29 22:27:07,818: INFO: common: created directory at: artifacts\\prepare_callbacks\\tensorboard_log_dir]\n",
      "[2023-12-29 22:27:07,821: INFO: common: created directory at: artifacts\\training]\n",
      "77\n",
      "19\n",
      "[<keras.src.callbacks.TensorBoard object at 0x0000021D028DCA10>, <keras.src.callbacks.ModelCheckpoint object at 0x0000021D01C51910>]\n",
      "Epoch 1/10\n",
      "77/77 [==============================] - 9s 86ms/step - loss: 14556118.0000 - accuracy: 2.2690e-04 - val_loss: 14678682.0000 - val_accuracy: 0.0000e+00\n",
      "Epoch 2/10\n",
      " 3/77 [>.............................] - ETA: 3s - loss: 14927722.0000 - accuracy: 0.0000e+00"
     ]
    },
    {
     "name": "stderr",
     "output_type": "stream",
     "text": [
      "c:\\Users\\MCW\\.conda\\envs\\mlops\\Lib\\site-packages\\keras\\src\\engine\\training.py:3103: UserWarning: You are saving your model as an HDF5 file via `model.save()`. This file format is considered legacy. We recommend using instead the native Keras format, e.g. `model.save('my_model.keras')`.\n",
      "  saving_api.save_model(\n"
     ]
    },
    {
     "name": "stdout",
     "output_type": "stream",
     "text": [
      "77/77 [==============================] - 6s 80ms/step - loss: 14556119.0000 - accuracy: 2.2690e-04 - val_loss: 14678682.0000 - val_accuracy: 0.0000e+00\n",
      "Epoch 3/10\n",
      "77/77 [==============================] - 6s 74ms/step - loss: 14556118.0000 - accuracy: 2.2690e-04 - val_loss: 14678682.0000 - val_accuracy: 0.0000e+00\n",
      "Epoch 4/10\n",
      "77/77 [==============================] - 6s 72ms/step - loss: 14556115.0000 - accuracy: 2.2690e-04 - val_loss: 14678682.0000 - val_accuracy: 0.0000e+00\n",
      "Epoch 5/10\n",
      "77/77 [==============================] - 6s 80ms/step - loss: 14556116.0000 - accuracy: 2.2690e-04 - val_loss: 14678682.0000 - val_accuracy: 0.0000e+00\n",
      "Epoch 6/10\n",
      "77/77 [==============================] - 5s 71ms/step - loss: 14556117.0000 - accuracy: 2.2690e-04 - val_loss: 14678682.0000 - val_accuracy: 0.0000e+00\n",
      "Epoch 7/10\n",
      "77/77 [==============================] - 6s 79ms/step - loss: 14556118.0000 - accuracy: 2.2690e-04 - val_loss: 14678682.0000 - val_accuracy: 0.0000e+00\n",
      "Epoch 8/10\n",
      "77/77 [==============================] - 11s 150ms/step - loss: 14556113.0000 - accuracy: 2.2690e-04 - val_loss: 14678682.0000 - val_accuracy: 0.0000e+00\n",
      "Epoch 9/10\n",
      "77/77 [==============================] - 11s 148ms/step - loss: 14556117.0000 - accuracy: 2.2690e-04 - val_loss: 14678682.0000 - val_accuracy: 0.0000e+00\n",
      "Epoch 10/10\n",
      "77/77 [==============================] - 11s 138ms/step - loss: 14556115.0000 - accuracy: 2.2690e-04 - val_loss: 14678682.0000 - val_accuracy: 0.0000e+00\n"
     ]
    }
   ],
   "source": [
    "try:\n",
    "    config = ConfigurationManager()\n",
    "    prepare_callbacks_config = config.get_prepare_callback_config()\n",
    "    prepare_callbacks = PrepareCallback(config=prepare_callbacks_config)\n",
    "    callback_list = prepare_callbacks.get_tb_ckpt_callbacks()\n",
    "\n",
    "    training_config = config.get_training_config()\n",
    "    training = Training(config=training_config)\n",
    "    training.get_base_model()\n",
    "    training.train_valid_generator()\n",
    "    training.train(\n",
    "        callback_list=callback_list\n",
    "    )\n",
    "    \n",
    "except Exception as e:\n",
    "    raise e\n"
   ]
  },
  {
   "cell_type": "code",
   "execution_count": null,
   "metadata": {},
   "outputs": [],
   "source": []
  }
 ],
 "metadata": {
  "kernelspec": {
   "display_name": "mlops",
   "language": "python",
   "name": "python3"
  },
  "language_info": {
   "codemirror_mode": {
    "name": "ipython",
    "version": 3
   },
   "file_extension": ".py",
   "mimetype": "text/x-python",
   "name": "python",
   "nbconvert_exporter": "python",
   "pygments_lexer": "ipython3",
   "version": "3.11.5"
  }
 },
 "nbformat": 4,
 "nbformat_minor": 2
}
