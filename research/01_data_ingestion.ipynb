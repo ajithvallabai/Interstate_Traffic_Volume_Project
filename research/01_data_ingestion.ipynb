{
 "cells": [
  {
   "cell_type": "code",
   "execution_count": 2,
   "metadata": {},
   "outputs": [
    {
     "data": {
      "text/plain": [
       "'c:\\\\Users\\\\MCW\\\\Documents\\\\Ajith\\\\MLOps\\\\project_02\\\\Interstate_Traffic_Volume_Project\\\\research'"
      ]
     },
     "execution_count": 2,
     "metadata": {},
     "output_type": "execute_result"
    }
   ],
   "source": [
    "%pwd"
   ]
  },
  {
   "cell_type": "code",
   "execution_count": 3,
   "metadata": {},
   "outputs": [],
   "source": [
    "import os \n",
    "os.chdir(\"../\")"
   ]
  },
  {
   "cell_type": "code",
   "execution_count": 5,
   "metadata": {},
   "outputs": [
    {
     "data": {
      "text/plain": [
       "'c:\\\\Users\\\\MCW\\\\Documents\\\\Ajith\\\\MLOps\\\\project_02\\\\Interstate_Traffic_Volume_Project'"
      ]
     },
     "execution_count": 5,
     "metadata": {},
     "output_type": "execute_result"
    }
   ],
   "source": [
    "%pwd"
   ]
  },
  {
   "cell_type": "code",
   "execution_count": 6,
   "metadata": {},
   "outputs": [],
   "source": [
    "from dataclasses import dataclass\n",
    "from pathlib import Path\n",
    "\n",
    "@dataclass(frozen=True)\n",
    "class DataIngestionConfig:\n",
    "    root_dir: Path\n",
    "    source_URL: str\n",
    "    local_data_file: Path\n",
    "    unzip_dir: Path"
   ]
  },
  {
   "cell_type": "code",
   "execution_count": 7,
   "metadata": {},
   "outputs": [],
   "source": [
    "from trafficVolumePrediction.constants import *\n",
    "from trafficVolumePrediction.utils.common import read_yaml, create_directories"
   ]
  },
  {
   "cell_type": "code",
   "execution_count": 8,
   "metadata": {},
   "outputs": [],
   "source": [
    "import os \n",
    "import urllib.request as request\n",
    "import zipfile\n",
    "from trafficVolumePrediction import logger\n",
    "from trafficVolumePrediction.utils.common import get_size"
   ]
  },
  {
   "cell_type": "code",
   "execution_count": 16,
   "metadata": {},
   "outputs": [],
   "source": [
    "import time\n",
    "class DataIngestion:\n",
    "    def __init__(self, config: DataIngestionConfig):\n",
    "        self.config = config\n",
    "    \n",
    "    def download_file(self):\n",
    "        delay = 5\n",
    "        max_retries = 3\n",
    "        for _ in range(max_retries):\n",
    "            try:\n",
    "                if not os.path.exists(self.config.local_data_file):\n",
    "                    filename, headers = request.urlretrieve(\n",
    "                    url = self.config.source_URL,\n",
    "                    filename = self.config.local_data_file\n",
    "                    )\n",
    "                    logger.info(f\"{filename} download! with following info: \\n {headers}\")\n",
    "                else:\n",
    "                    logger.info(f\"File already exists of size: {get_size(Path(self.config.local_data_file))}\")\n",
    "            except Exception as e:\n",
    "                logger.info(f\"Delay for next attempt {e}\")\n",
    "                time.sleep(delay)\n",
    "                delay *= 2\n",
    "        else:\n",
    "            logger.info(f\"Failed for {self.config.source_URL} after {max_retries} attempt\")\n",
    "\n",
    "    def extract_zip_file(self):\n",
    "        \"\"\"\n",
    "        zip_file_path: str\n",
    "        Extracts the zip file into the data directory\n",
    "        Function returns None\n",
    "        \"\"\"\n",
    "        unzip_path = self.config.unzip_dir\n",
    "        os.makedirs(unzip_path, exist_ok=True)\n",
    "        with zipfile.ZipFile(self.config.local_data_file, \"r\") as zip_ref:\n",
    "            zip_ref.extractall(unzip_path)"
   ]
  },
  {
   "cell_type": "code",
   "execution_count": 10,
   "metadata": {},
   "outputs": [],
   "source": [
    "class ConfigurationManager:\n",
    "    def __init__(\n",
    "            self,\n",
    "            config_filepath = CONFIG_FILE_PATH,\n",
    "            params_filepath = PARAMS_FILE_PATH):\n",
    "\n",
    "            self.config = read_yaml(config_filepath)\n",
    "            self.params = read_yaml(params_filepath)\n",
    "\n",
    "            create_directories([self.config.artifacts_root])\n",
    "    def get_data_ingestion_config(self) -> DataIngestionConfig:\n",
    "          config = self.config.data_ingestion\n",
    "\n",
    "          create_directories([config.root_dir])\n",
    "\n",
    "          data_ingestion_config = DataIngestionConfig(\n",
    "                root_dir=config.root_dir,\n",
    "                source_URL=config.source_URL,\n",
    "                local_data_file=config.local_data_file,\n",
    "                unzip_dir=config.unzip_dir\n",
    "          )\n",
    "          return data_ingestion_config"
   ]
  },
  {
   "cell_type": "code",
   "execution_count": 17,
   "metadata": {},
   "outputs": [
    {
     "name": "stdout",
     "output_type": "stream",
     "text": [
      "[2023-12-29 19:31:11,607: INFO: common: yaml file: config\\config.yaml loaded successfully]\n",
      "[2023-12-29 19:31:11,609: INFO: common: yaml file: params.yaml loaded successfully]\n",
      "[2023-12-29 19:31:11,610: INFO: common: created directory at: artifacts]\n",
      "[2023-12-29 19:31:11,612: INFO: common: created directory at: artifacts/data_ingestion]\n",
      "[2023-12-29 19:31:12,504: INFO: 934097324: Delay for next attempt <urlopen error [WinError 10054] An existing connection was forcibly closed by the remote host>]\n",
      "[2023-12-29 19:31:18,465: INFO: 934097324: Delay for next attempt <urlopen error [WinError 10054] An existing connection was forcibly closed by the remote host>]\n",
      "[2023-12-29 19:31:29,833: INFO: 934097324: artifacts/data_ingestion/data.zip download! with following info: \n",
      " Connection: close\n",
      "Content-Length: 671587\n",
      "Cache-Control: max-age=300\n",
      "Content-Security-Policy: default-src 'none'; style-src 'unsafe-inline'; sandbox\n",
      "Content-Type: application/zip\n",
      "ETag: \"812acc4135ed854820899400b32cfd7c2570231663e8be9dc3efd79d442c186a\"\n",
      "Strict-Transport-Security: max-age=31536000\n",
      "X-Content-Type-Options: nosniff\n",
      "X-Frame-Options: deny\n",
      "X-XSS-Protection: 1; mode=block\n",
      "X-GitHub-Request-Id: 0D0A:8994:5691DF:6F47FE:658ED139\n",
      "Accept-Ranges: bytes\n",
      "Date: Fri, 29 Dec 2023 14:01:30 GMT\n",
      "Via: 1.1 varnish\n",
      "X-Served-By: cache-maa10220-MAA\n",
      "X-Cache: MISS\n",
      "X-Cache-Hits: 0\n",
      "X-Timer: S1703858490.719381,VS0,VE311\n",
      "Vary: Authorization,Accept-Encoding,Origin\n",
      "Access-Control-Allow-Origin: *\n",
      "Cross-Origin-Resource-Policy: cross-origin\n",
      "X-Fastly-Request-ID: e0cf446bffe866135171c306999dbefb1eef585d\n",
      "Expires: Fri, 29 Dec 2023 14:06:30 GMT\n",
      "Source-Age: 0\n",
      "\n",
      "]\n",
      "[2023-12-29 19:31:29,834: INFO: 934097324: Failed for https://github.com/ajithvallabai/Interstate_Traffic_Volume_Project/raw/dev_tf/data/data_trafficVolume.zip after 3 attempt]\n"
     ]
    }
   ],
   "source": [
    "try:\n",
    "    config = ConfigurationManager()\n",
    "    data_ingestion_config = config.get_data_ingestion_config()\n",
    "    data_ingestion = DataIngestion(config=data_ingestion_config)\n",
    "    data_ingestion.download_file()\n",
    "    data_ingestion.extract_zip_file()\n",
    "except Exception as e:\n",
    "    raise e\n"
   ]
  },
  {
   "cell_type": "code",
   "execution_count": null,
   "metadata": {},
   "outputs": [],
   "source": []
  }
 ],
 "metadata": {
  "kernelspec": {
   "display_name": "mlops",
   "language": "python",
   "name": "python3"
  },
  "language_info": {
   "codemirror_mode": {
    "name": "ipython",
    "version": 3
   },
   "file_extension": ".py",
   "mimetype": "text/x-python",
   "name": "python",
   "nbconvert_exporter": "python",
   "pygments_lexer": "ipython3",
   "version": "3.11.5"
  }
 },
 "nbformat": 4,
 "nbformat_minor": 2
}
